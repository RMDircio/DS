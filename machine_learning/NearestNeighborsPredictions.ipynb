{
  "nbformat": 4,
  "nbformat_minor": 0,
  "metadata": {
    "colab": {
      "name": "bw_MedCabinet_4.ipynb",
      "provenance": [],
      "collapsed_sections": [
        "oWO7-cKCQJFf",
        "HV-kd4t5aYxF",
        "Vd42DK4Jcq1D"
      ],
      "authorship_tag": "ABX9TyPZ+QD4ma/Ep7eIpNbDp36i",
      "include_colab_link": true
    },
    "kernelspec": {
      "name": "python3",
      "display_name": "Python 3"
    }
  },
  "cells": [
    {
      "cell_type": "markdown",
      "metadata": {
        "id": "view-in-github",
        "colab_type": "text"
      },
      "source": [
        "<a href=\"https://colab.research.google.com/github/RMDircio/DS/blob/master/machine_learning/bw_MedCabinet_4.ipynb\" target=\"_parent\"><img src=\"https://colab.research.google.com/assets/colab-badge.svg\" alt=\"Open In Colab\"/></a>"
      ]
    },
    {
      "cell_type": "markdown",
      "metadata": {
        "id": "C82B9x1VsBFI",
        "colab_type": "text"
      },
      "source": [
        "Nearest Neighbors model for prediction the top four marijuana strains for a consumer. \n",
        "\n",
        "This model structure was build from the great work done by Amy Beisel and Jessica Kimbril when they first worked on this project. "
      ]
    },
    {
      "cell_type": "code",
      "metadata": {
        "id": "7gVBTLZ7EFYr",
        "colab_type": "code",
        "colab": {
          "base_uri": "https://localhost:8080/",
          "height": 436
        },
        "outputId": "d7ba3c79-f043-4f9c-9f49-f0eca1e6494d"
      },
      "source": [
        "# cleaning\n",
        "import pandas as pd\n",
        "\n",
        "# tokenizing\n",
        "!python -m spacy download en_core_web_lg\n",
        "import spacy\n",
        "from spacy.tokenizer import Tokenizer\n",
        "from sklearn.neighbors import NearestNeighbors\n",
        "from sklearn.feature_extraction.text import TfidfVectorizer\n",
        "\n",
        "# pickeling\n",
        "import pickle"
      ],
      "execution_count": 1,
      "outputs": [
        {
          "output_type": "stream",
          "text": [
            "Requirement already satisfied: en_core_web_lg==2.2.5 from https://github.com/explosion/spacy-models/releases/download/en_core_web_lg-2.2.5/en_core_web_lg-2.2.5.tar.gz#egg=en_core_web_lg==2.2.5 in /usr/local/lib/python3.6/dist-packages (2.2.5)\n",
            "Requirement already satisfied: spacy>=2.2.2 in /usr/local/lib/python3.6/dist-packages (from en_core_web_lg==2.2.5) (2.2.4)\n",
            "Requirement already satisfied: srsly<1.1.0,>=1.0.2 in /usr/local/lib/python3.6/dist-packages (from spacy>=2.2.2->en_core_web_lg==2.2.5) (1.0.2)\n",
            "Requirement already satisfied: cymem<2.1.0,>=2.0.2 in /usr/local/lib/python3.6/dist-packages (from spacy>=2.2.2->en_core_web_lg==2.2.5) (2.0.3)\n",
            "Requirement already satisfied: catalogue<1.1.0,>=0.0.7 in /usr/local/lib/python3.6/dist-packages (from spacy>=2.2.2->en_core_web_lg==2.2.5) (1.0.0)\n",
            "Requirement already satisfied: wasabi<1.1.0,>=0.4.0 in /usr/local/lib/python3.6/dist-packages (from spacy>=2.2.2->en_core_web_lg==2.2.5) (0.7.1)\n",
            "Requirement already satisfied: thinc==7.4.0 in /usr/local/lib/python3.6/dist-packages (from spacy>=2.2.2->en_core_web_lg==2.2.5) (7.4.0)\n",
            "Requirement already satisfied: murmurhash<1.1.0,>=0.28.0 in /usr/local/lib/python3.6/dist-packages (from spacy>=2.2.2->en_core_web_lg==2.2.5) (1.0.2)\n",
            "Requirement already satisfied: tqdm<5.0.0,>=4.38.0 in /usr/local/lib/python3.6/dist-packages (from spacy>=2.2.2->en_core_web_lg==2.2.5) (4.41.1)\n",
            "Requirement already satisfied: plac<1.2.0,>=0.9.6 in /usr/local/lib/python3.6/dist-packages (from spacy>=2.2.2->en_core_web_lg==2.2.5) (1.1.3)\n",
            "Requirement already satisfied: preshed<3.1.0,>=3.0.2 in /usr/local/lib/python3.6/dist-packages (from spacy>=2.2.2->en_core_web_lg==2.2.5) (3.0.2)\n",
            "Requirement already satisfied: setuptools in /usr/local/lib/python3.6/dist-packages (from spacy>=2.2.2->en_core_web_lg==2.2.5) (49.6.0)\n",
            "Requirement already satisfied: numpy>=1.15.0 in /usr/local/lib/python3.6/dist-packages (from spacy>=2.2.2->en_core_web_lg==2.2.5) (1.18.5)\n",
            "Requirement already satisfied: blis<0.5.0,>=0.4.0 in /usr/local/lib/python3.6/dist-packages (from spacy>=2.2.2->en_core_web_lg==2.2.5) (0.4.1)\n",
            "Requirement already satisfied: requests<3.0.0,>=2.13.0 in /usr/local/lib/python3.6/dist-packages (from spacy>=2.2.2->en_core_web_lg==2.2.5) (2.23.0)\n",
            "Requirement already satisfied: importlib-metadata>=0.20; python_version < \"3.8\" in /usr/local/lib/python3.6/dist-packages (from catalogue<1.1.0,>=0.0.7->spacy>=2.2.2->en_core_web_lg==2.2.5) (1.7.0)\n",
            "Requirement already satisfied: urllib3!=1.25.0,!=1.25.1,<1.26,>=1.21.1 in /usr/local/lib/python3.6/dist-packages (from requests<3.0.0,>=2.13.0->spacy>=2.2.2->en_core_web_lg==2.2.5) (1.24.3)\n",
            "Requirement already satisfied: idna<3,>=2.5 in /usr/local/lib/python3.6/dist-packages (from requests<3.0.0,>=2.13.0->spacy>=2.2.2->en_core_web_lg==2.2.5) (2.10)\n",
            "Requirement already satisfied: chardet<4,>=3.0.2 in /usr/local/lib/python3.6/dist-packages (from requests<3.0.0,>=2.13.0->spacy>=2.2.2->en_core_web_lg==2.2.5) (3.0.4)\n",
            "Requirement already satisfied: certifi>=2017.4.17 in /usr/local/lib/python3.6/dist-packages (from requests<3.0.0,>=2.13.0->spacy>=2.2.2->en_core_web_lg==2.2.5) (2020.6.20)\n",
            "Requirement already satisfied: zipp>=0.5 in /usr/local/lib/python3.6/dist-packages (from importlib-metadata>=0.20; python_version < \"3.8\"->catalogue<1.1.0,>=0.0.7->spacy>=2.2.2->en_core_web_lg==2.2.5) (3.1.0)\n",
            "\u001b[38;5;2m✔ Download and installation successful\u001b[0m\n",
            "You can now load the model via spacy.load('en_core_web_lg')\n"
          ],
          "name": "stdout"
        }
      ]
    },
    {
      "cell_type": "markdown",
      "metadata": {
        "id": "Hf62mC9VF1Tc",
        "colab_type": "text"
      },
      "source": [
        "### Need to restart the Runtime here and rerun the imports cell above. "
      ]
    },
    {
      "cell_type": "markdown",
      "metadata": {
        "id": "oVFQERj2KT7_",
        "colab_type": "text"
      },
      "source": [
        "# Cleaning Cannabis CSV"
      ]
    },
    {
      "cell_type": "code",
      "metadata": {
        "id": "dKQ3dkphAoC4",
        "colab_type": "code",
        "colab": {}
      },
      "source": [
        "# reading data\n",
        "URL = 'https://raw.githubusercontent.com/Build-Week-Med4/DS/master/machine_learning/cannabis.csv'\n",
        "strains_df = pd.read_csv(URL, na_values=\"None\")\n",
        "strains_df.columns= strains_df.columns.str.lower()"
      ],
      "execution_count": 2,
      "outputs": []
    },
    {
      "cell_type": "code",
      "metadata": {
        "id": "_PuMrXF0AoQM",
        "colab_type": "code",
        "colab": {
          "base_uri": "https://localhost:8080/",
          "height": 310
        },
        "outputId": "dab16109-7c30-411f-adff-ba66013eabf1"
      },
      "source": [
        "# shape and first look at df\n",
        "print(strains_df.shape)\n",
        "strains_df.head()"
      ],
      "execution_count": 3,
      "outputs": [
        {
          "output_type": "stream",
          "text": [
            "(2351, 6)\n"
          ],
          "name": "stdout"
        },
        {
          "output_type": "execute_result",
          "data": {
            "text/html": [
              "<div>\n",
              "<style scoped>\n",
              "    .dataframe tbody tr th:only-of-type {\n",
              "        vertical-align: middle;\n",
              "    }\n",
              "\n",
              "    .dataframe tbody tr th {\n",
              "        vertical-align: top;\n",
              "    }\n",
              "\n",
              "    .dataframe thead th {\n",
              "        text-align: right;\n",
              "    }\n",
              "</style>\n",
              "<table border=\"1\" class=\"dataframe\">\n",
              "  <thead>\n",
              "    <tr style=\"text-align: right;\">\n",
              "      <th></th>\n",
              "      <th>strain</th>\n",
              "      <th>type</th>\n",
              "      <th>rating</th>\n",
              "      <th>effects</th>\n",
              "      <th>flavor</th>\n",
              "      <th>description</th>\n",
              "    </tr>\n",
              "  </thead>\n",
              "  <tbody>\n",
              "    <tr>\n",
              "      <th>0</th>\n",
              "      <td>100-Og</td>\n",
              "      <td>hybrid</td>\n",
              "      <td>4.0</td>\n",
              "      <td>Creative,Energetic,Tingly,Euphoric,Relaxed</td>\n",
              "      <td>Earthy,Sweet,Citrus</td>\n",
              "      <td>$100 OG is a 50/50 hybrid strain that packs a ...</td>\n",
              "    </tr>\n",
              "    <tr>\n",
              "      <th>1</th>\n",
              "      <td>98-White-Widow</td>\n",
              "      <td>hybrid</td>\n",
              "      <td>4.7</td>\n",
              "      <td>Relaxed,Aroused,Creative,Happy,Energetic</td>\n",
              "      <td>Flowery,Violet,Diesel</td>\n",
              "      <td>The ‘98 Aloha White Widow is an especially pot...</td>\n",
              "    </tr>\n",
              "    <tr>\n",
              "      <th>2</th>\n",
              "      <td>1024</td>\n",
              "      <td>sativa</td>\n",
              "      <td>4.4</td>\n",
              "      <td>Uplifted,Happy,Relaxed,Energetic,Creative</td>\n",
              "      <td>Spicy/Herbal,Sage,Woody</td>\n",
              "      <td>1024 is a sativa-dominant hybrid bred in Spain...</td>\n",
              "    </tr>\n",
              "    <tr>\n",
              "      <th>3</th>\n",
              "      <td>13-Dawgs</td>\n",
              "      <td>hybrid</td>\n",
              "      <td>4.2</td>\n",
              "      <td>Tingly,Creative,Hungry,Relaxed,Uplifted</td>\n",
              "      <td>Apricot,Citrus,Grapefruit</td>\n",
              "      <td>13 Dawgs is a hybrid of G13 and Chemdawg genet...</td>\n",
              "    </tr>\n",
              "    <tr>\n",
              "      <th>4</th>\n",
              "      <td>24K-Gold</td>\n",
              "      <td>hybrid</td>\n",
              "      <td>4.6</td>\n",
              "      <td>Happy,Relaxed,Euphoric,Uplifted,Talkative</td>\n",
              "      <td>Citrus,Earthy,Orange</td>\n",
              "      <td>Also known as Kosher Tangie, 24k Gold is a 60%...</td>\n",
              "    </tr>\n",
              "  </tbody>\n",
              "</table>\n",
              "</div>"
            ],
            "text/plain": [
              "           strain  ...                                        description\n",
              "0          100-Og  ...  $100 OG is a 50/50 hybrid strain that packs a ...\n",
              "1  98-White-Widow  ...  The ‘98 Aloha White Widow is an especially pot...\n",
              "2            1024  ...  1024 is a sativa-dominant hybrid bred in Spain...\n",
              "3        13-Dawgs  ...  13 Dawgs is a hybrid of G13 and Chemdawg genet...\n",
              "4        24K-Gold  ...  Also known as Kosher Tangie, 24k Gold is a 60%...\n",
              "\n",
              "[5 rows x 6 columns]"
            ]
          },
          "metadata": {
            "tags": []
          },
          "execution_count": 3
        }
      ]
    },
    {
      "cell_type": "code",
      "metadata": {
        "id": "Dnjf_U_oDu_j",
        "colab_type": "code",
        "colab": {
          "base_uri": "https://localhost:8080/",
          "height": 597
        },
        "outputId": "bee4af99-bd7f-4beb-b635-a90ddfc9fd52"
      },
      "source": [
        "# locate all the NaNs\n",
        "strains_df.loc[strains_df.isnull().any(axis=1)]"
      ],
      "execution_count": 4,
      "outputs": [
        {
          "output_type": "execute_result",
          "data": {
            "text/html": [
              "<div>\n",
              "<style scoped>\n",
              "    .dataframe tbody tr th:only-of-type {\n",
              "        vertical-align: middle;\n",
              "    }\n",
              "\n",
              "    .dataframe tbody tr th {\n",
              "        vertical-align: top;\n",
              "    }\n",
              "\n",
              "    .dataframe thead th {\n",
              "        text-align: right;\n",
              "    }\n",
              "</style>\n",
              "<table border=\"1\" class=\"dataframe\">\n",
              "  <thead>\n",
              "    <tr style=\"text-align: right;\">\n",
              "      <th></th>\n",
              "      <th>strain</th>\n",
              "      <th>type</th>\n",
              "      <th>rating</th>\n",
              "      <th>effects</th>\n",
              "      <th>flavor</th>\n",
              "      <th>description</th>\n",
              "    </tr>\n",
              "  </thead>\n",
              "  <tbody>\n",
              "    <tr>\n",
              "      <th>5</th>\n",
              "      <td>3-Bears-Og</td>\n",
              "      <td>indica</td>\n",
              "      <td>0.0</td>\n",
              "      <td>NaN</td>\n",
              "      <td>NaN</td>\n",
              "      <td>3 Bears OG by Mephisto Genetics is an autoflow...</td>\n",
              "    </tr>\n",
              "    <tr>\n",
              "      <th>16</th>\n",
              "      <td>831-Og</td>\n",
              "      <td>indica</td>\n",
              "      <td>5.0</td>\n",
              "      <td>NaN</td>\n",
              "      <td>NaN</td>\n",
              "      <td>831 OG, aka Santa Cruz OG, is an indica-domina...</td>\n",
              "    </tr>\n",
              "    <tr>\n",
              "      <th>32</th>\n",
              "      <td>Acid-Dough</td>\n",
              "      <td>sativa</td>\n",
              "      <td>5.0</td>\n",
              "      <td>Talkative,Giggly,Happy,Hungry,Relaxed</td>\n",
              "      <td>NaN</td>\n",
              "      <td>Acid Dough by Ripper Seeds is a sativa-dominan...</td>\n",
              "    </tr>\n",
              "    <tr>\n",
              "      <th>54</th>\n",
              "      <td>Afrikaner</td>\n",
              "      <td>sativa</td>\n",
              "      <td>0.0</td>\n",
              "      <td>NaN</td>\n",
              "      <td>NaN</td>\n",
              "      <td>Afrikaner by Cannabaal and master grower Waldo...</td>\n",
              "    </tr>\n",
              "    <tr>\n",
              "      <th>60</th>\n",
              "      <td>Als-Dream</td>\n",
              "      <td>hybrid</td>\n",
              "      <td>3.0</td>\n",
              "      <td>Talkative,Energetic</td>\n",
              "      <td>NaN</td>\n",
              "      <td>Al’s Dream is rapidly becoming a Colorado cann...</td>\n",
              "    </tr>\n",
              "    <tr>\n",
              "      <th>...</th>\n",
              "      <td>...</td>\n",
              "      <td>...</td>\n",
              "      <td>...</td>\n",
              "      <td>...</td>\n",
              "      <td>...</td>\n",
              "      <td>...</td>\n",
              "    </tr>\n",
              "    <tr>\n",
              "      <th>2298</th>\n",
              "      <td>White-Ryder</td>\n",
              "      <td>hybrid</td>\n",
              "      <td>0.0</td>\n",
              "      <td>NaN</td>\n",
              "      <td>NaN</td>\n",
              "      <td>White Ryder is Riot Seeds’ attempt to create a...</td>\n",
              "    </tr>\n",
              "    <tr>\n",
              "      <th>2309</th>\n",
              "      <td>White-Walrus</td>\n",
              "      <td>hybrid</td>\n",
              "      <td>2.5</td>\n",
              "      <td>Talkative,Uplifted,Creative,Energetic,Euphoric</td>\n",
              "      <td>NaN</td>\n",
              "      <td>White Walrus is a phenotype of Chernobyl, grow...</td>\n",
              "    </tr>\n",
              "    <tr>\n",
              "      <th>2321</th>\n",
              "      <td>Wonderwoman-Og</td>\n",
              "      <td>indica</td>\n",
              "      <td>4.0</td>\n",
              "      <td>Relaxed,Tingly,Euphoric,Aroused,Happy</td>\n",
              "      <td>Flowery,Menthol,Citrus</td>\n",
              "      <td>NaN</td>\n",
              "    </tr>\n",
              "    <tr>\n",
              "      <th>2327</th>\n",
              "      <td>X-File</td>\n",
              "      <td>hybrid</td>\n",
              "      <td>4.5</td>\n",
              "      <td>Tingly,Euphoric,Relaxed</td>\n",
              "      <td>NaN</td>\n",
              "      <td>Not to be confused with the similar-sounding X...</td>\n",
              "    </tr>\n",
              "    <tr>\n",
              "      <th>2342</th>\n",
              "      <td>Zamaldelica</td>\n",
              "      <td>sativa</td>\n",
              "      <td>5.0</td>\n",
              "      <td>Tingly,Uplifted,Energetic</td>\n",
              "      <td>NaN</td>\n",
              "      <td>Zamaldelica by Ace Seeds is a potent sativa-do...</td>\n",
              "    </tr>\n",
              "  </tbody>\n",
              "</table>\n",
              "<p>188 rows × 6 columns</p>\n",
              "</div>"
            ],
            "text/plain": [
              "              strain  ...                                        description\n",
              "5         3-Bears-Og  ...  3 Bears OG by Mephisto Genetics is an autoflow...\n",
              "16            831-Og  ...  831 OG, aka Santa Cruz OG, is an indica-domina...\n",
              "32        Acid-Dough  ...  Acid Dough by Ripper Seeds is a sativa-dominan...\n",
              "54         Afrikaner  ...  Afrikaner by Cannabaal and master grower Waldo...\n",
              "60         Als-Dream  ...  Al’s Dream is rapidly becoming a Colorado cann...\n",
              "...              ...  ...                                                ...\n",
              "2298     White-Ryder  ...  White Ryder is Riot Seeds’ attempt to create a...\n",
              "2309    White-Walrus  ...  White Walrus is a phenotype of Chernobyl, grow...\n",
              "2321  Wonderwoman-Og  ...                                                NaN\n",
              "2327          X-File  ...  Not to be confused with the similar-sounding X...\n",
              "2342     Zamaldelica  ...  Zamaldelica by Ace Seeds is a potent sativa-do...\n",
              "\n",
              "[188 rows x 6 columns]"
            ]
          },
          "metadata": {
            "tags": []
          },
          "execution_count": 4
        }
      ]
    },
    {
      "cell_type": "code",
      "metadata": {
        "id": "GaeOHvf1Ejgi",
        "colab_type": "code",
        "colab": {
          "base_uri": "https://localhost:8080/",
          "height": 310
        },
        "outputId": "e4dd7df6-80ff-4336-dc06-d25f540cc515"
      },
      "source": [
        "# drop the NaNs\n",
        "strains_df = strains_df.dropna().reset_index()\n",
        "print(strains_df.shape)\n",
        "strains_df.head()"
      ],
      "execution_count": 5,
      "outputs": [
        {
          "output_type": "stream",
          "text": [
            "(2163, 7)\n"
          ],
          "name": "stdout"
        },
        {
          "output_type": "execute_result",
          "data": {
            "text/html": [
              "<div>\n",
              "<style scoped>\n",
              "    .dataframe tbody tr th:only-of-type {\n",
              "        vertical-align: middle;\n",
              "    }\n",
              "\n",
              "    .dataframe tbody tr th {\n",
              "        vertical-align: top;\n",
              "    }\n",
              "\n",
              "    .dataframe thead th {\n",
              "        text-align: right;\n",
              "    }\n",
              "</style>\n",
              "<table border=\"1\" class=\"dataframe\">\n",
              "  <thead>\n",
              "    <tr style=\"text-align: right;\">\n",
              "      <th></th>\n",
              "      <th>index</th>\n",
              "      <th>strain</th>\n",
              "      <th>type</th>\n",
              "      <th>rating</th>\n",
              "      <th>effects</th>\n",
              "      <th>flavor</th>\n",
              "      <th>description</th>\n",
              "    </tr>\n",
              "  </thead>\n",
              "  <tbody>\n",
              "    <tr>\n",
              "      <th>0</th>\n",
              "      <td>0</td>\n",
              "      <td>100-Og</td>\n",
              "      <td>hybrid</td>\n",
              "      <td>4.0</td>\n",
              "      <td>Creative,Energetic,Tingly,Euphoric,Relaxed</td>\n",
              "      <td>Earthy,Sweet,Citrus</td>\n",
              "      <td>$100 OG is a 50/50 hybrid strain that packs a ...</td>\n",
              "    </tr>\n",
              "    <tr>\n",
              "      <th>1</th>\n",
              "      <td>1</td>\n",
              "      <td>98-White-Widow</td>\n",
              "      <td>hybrid</td>\n",
              "      <td>4.7</td>\n",
              "      <td>Relaxed,Aroused,Creative,Happy,Energetic</td>\n",
              "      <td>Flowery,Violet,Diesel</td>\n",
              "      <td>The ‘98 Aloha White Widow is an especially pot...</td>\n",
              "    </tr>\n",
              "    <tr>\n",
              "      <th>2</th>\n",
              "      <td>2</td>\n",
              "      <td>1024</td>\n",
              "      <td>sativa</td>\n",
              "      <td>4.4</td>\n",
              "      <td>Uplifted,Happy,Relaxed,Energetic,Creative</td>\n",
              "      <td>Spicy/Herbal,Sage,Woody</td>\n",
              "      <td>1024 is a sativa-dominant hybrid bred in Spain...</td>\n",
              "    </tr>\n",
              "    <tr>\n",
              "      <th>3</th>\n",
              "      <td>3</td>\n",
              "      <td>13-Dawgs</td>\n",
              "      <td>hybrid</td>\n",
              "      <td>4.2</td>\n",
              "      <td>Tingly,Creative,Hungry,Relaxed,Uplifted</td>\n",
              "      <td>Apricot,Citrus,Grapefruit</td>\n",
              "      <td>13 Dawgs is a hybrid of G13 and Chemdawg genet...</td>\n",
              "    </tr>\n",
              "    <tr>\n",
              "      <th>4</th>\n",
              "      <td>4</td>\n",
              "      <td>24K-Gold</td>\n",
              "      <td>hybrid</td>\n",
              "      <td>4.6</td>\n",
              "      <td>Happy,Relaxed,Euphoric,Uplifted,Talkative</td>\n",
              "      <td>Citrus,Earthy,Orange</td>\n",
              "      <td>Also known as Kosher Tangie, 24k Gold is a 60%...</td>\n",
              "    </tr>\n",
              "  </tbody>\n",
              "</table>\n",
              "</div>"
            ],
            "text/plain": [
              "   index  ...                                        description\n",
              "0      0  ...  $100 OG is a 50/50 hybrid strain that packs a ...\n",
              "1      1  ...  The ‘98 Aloha White Widow is an especially pot...\n",
              "2      2  ...  1024 is a sativa-dominant hybrid bred in Spain...\n",
              "3      3  ...  13 Dawgs is a hybrid of G13 and Chemdawg genet...\n",
              "4      4  ...  Also known as Kosher Tangie, 24k Gold is a 60%...\n",
              "\n",
              "[5 rows x 7 columns]"
            ]
          },
          "metadata": {
            "tags": []
          },
          "execution_count": 5
        }
      ]
    },
    {
      "cell_type": "markdown",
      "metadata": {
        "id": "1RpexYoiKheo",
        "colab_type": "text"
      },
      "source": [
        "# Combining Features\n",
        "`effects` + `flavors` + `description`\n",
        "<br>By combining these three features, we can predict with full sentence inputs or a set of statements. "
      ]
    },
    {
      "cell_type": "code",
      "metadata": {
        "id": "9W7sPsd5LoWm",
        "colab_type": "code",
        "colab": {}
      },
      "source": [
        "# make combined feature\n",
        "strains_df['combined'] = strains_df['effects'] + \\\n",
        "                          strains_df['flavor'] + \\\n",
        "                          strains_df['description']"
      ],
      "execution_count": 6,
      "outputs": []
    },
    {
      "cell_type": "code",
      "metadata": {
        "id": "HfWLjDjfMJz_",
        "colab_type": "code",
        "colab": {
          "base_uri": "https://localhost:8080/",
          "height": 92
        },
        "outputId": "2bb31f8a-9cd8-4483-bb4b-697eb8b3b5b0"
      },
      "source": [
        "# 7th row in combined column\n",
        "# testing new column\n",
        "strains_df['combined'][6]"
      ],
      "execution_count": 7,
      "outputs": [
        {
          "output_type": "execute_result",
          "data": {
            "application/vnd.google.colaboratory.intrinsic+json": {
              "type": "string"
            },
            "text/plain": [
              "'Relaxed,Happy,Euphoric,Uplifted,GigglyCitrus,Pungent,EarthyThe indica-dominant 303 OG is a Colorado strain bred by crossing Pre-98 Bubba Kush and Chemdawg. Its parent strains pass on a complex flavor profile of coffee and spice with diesel undertones. Its buzz can be described as social and creative, a dreamy experience perfect for letting off steam at the end of the work day. The happy euphoria induced by 303 OG may help patients treating depression, anxiety, and stress disorders.'"
            ]
          },
          "metadata": {
            "tags": []
          },
          "execution_count": 7
        }
      ]
    },
    {
      "cell_type": "code",
      "metadata": {
        "id": "t32-aVhNMUUu",
        "colab_type": "code",
        "colab": {
          "base_uri": "https://localhost:8080/",
          "height": 556
        },
        "outputId": "339ec425-f8b1-40cf-e762-25ea00cea0c0"
      },
      "source": [
        "# drop extra index column\n",
        "strains_df = strains_df.drop(['index'], axis=1)\n",
        "strains_df.head()"
      ],
      "execution_count": 8,
      "outputs": [
        {
          "output_type": "execute_result",
          "data": {
            "text/html": [
              "<div>\n",
              "<style scoped>\n",
              "    .dataframe tbody tr th:only-of-type {\n",
              "        vertical-align: middle;\n",
              "    }\n",
              "\n",
              "    .dataframe tbody tr th {\n",
              "        vertical-align: top;\n",
              "    }\n",
              "\n",
              "    .dataframe thead th {\n",
              "        text-align: right;\n",
              "    }\n",
              "</style>\n",
              "<table border=\"1\" class=\"dataframe\">\n",
              "  <thead>\n",
              "    <tr style=\"text-align: right;\">\n",
              "      <th></th>\n",
              "      <th>strain</th>\n",
              "      <th>type</th>\n",
              "      <th>rating</th>\n",
              "      <th>effects</th>\n",
              "      <th>flavor</th>\n",
              "      <th>description</th>\n",
              "      <th>combined</th>\n",
              "    </tr>\n",
              "  </thead>\n",
              "  <tbody>\n",
              "    <tr>\n",
              "      <th>0</th>\n",
              "      <td>100-Og</td>\n",
              "      <td>hybrid</td>\n",
              "      <td>4.0</td>\n",
              "      <td>Creative,Energetic,Tingly,Euphoric,Relaxed</td>\n",
              "      <td>Earthy,Sweet,Citrus</td>\n",
              "      <td>$100 OG is a 50/50 hybrid strain that packs a ...</td>\n",
              "      <td>Creative,Energetic,Tingly,Euphoric,RelaxedEart...</td>\n",
              "    </tr>\n",
              "    <tr>\n",
              "      <th>1</th>\n",
              "      <td>98-White-Widow</td>\n",
              "      <td>hybrid</td>\n",
              "      <td>4.7</td>\n",
              "      <td>Relaxed,Aroused,Creative,Happy,Energetic</td>\n",
              "      <td>Flowery,Violet,Diesel</td>\n",
              "      <td>The ‘98 Aloha White Widow is an especially pot...</td>\n",
              "      <td>Relaxed,Aroused,Creative,Happy,EnergeticFlower...</td>\n",
              "    </tr>\n",
              "    <tr>\n",
              "      <th>2</th>\n",
              "      <td>1024</td>\n",
              "      <td>sativa</td>\n",
              "      <td>4.4</td>\n",
              "      <td>Uplifted,Happy,Relaxed,Energetic,Creative</td>\n",
              "      <td>Spicy/Herbal,Sage,Woody</td>\n",
              "      <td>1024 is a sativa-dominant hybrid bred in Spain...</td>\n",
              "      <td>Uplifted,Happy,Relaxed,Energetic,CreativeSpicy...</td>\n",
              "    </tr>\n",
              "    <tr>\n",
              "      <th>3</th>\n",
              "      <td>13-Dawgs</td>\n",
              "      <td>hybrid</td>\n",
              "      <td>4.2</td>\n",
              "      <td>Tingly,Creative,Hungry,Relaxed,Uplifted</td>\n",
              "      <td>Apricot,Citrus,Grapefruit</td>\n",
              "      <td>13 Dawgs is a hybrid of G13 and Chemdawg genet...</td>\n",
              "      <td>Tingly,Creative,Hungry,Relaxed,UpliftedApricot...</td>\n",
              "    </tr>\n",
              "    <tr>\n",
              "      <th>4</th>\n",
              "      <td>24K-Gold</td>\n",
              "      <td>hybrid</td>\n",
              "      <td>4.6</td>\n",
              "      <td>Happy,Relaxed,Euphoric,Uplifted,Talkative</td>\n",
              "      <td>Citrus,Earthy,Orange</td>\n",
              "      <td>Also known as Kosher Tangie, 24k Gold is a 60%...</td>\n",
              "      <td>Happy,Relaxed,Euphoric,Uplifted,TalkativeCitru...</td>\n",
              "    </tr>\n",
              "  </tbody>\n",
              "</table>\n",
              "</div>"
            ],
            "text/plain": [
              "           strain  ...                                           combined\n",
              "0          100-Og  ...  Creative,Energetic,Tingly,Euphoric,RelaxedEart...\n",
              "1  98-White-Widow  ...  Relaxed,Aroused,Creative,Happy,EnergeticFlower...\n",
              "2            1024  ...  Uplifted,Happy,Relaxed,Energetic,CreativeSpicy...\n",
              "3        13-Dawgs  ...  Tingly,Creative,Hungry,Relaxed,UpliftedApricot...\n",
              "4        24K-Gold  ...  Happy,Relaxed,Euphoric,Uplifted,TalkativeCitru...\n",
              "\n",
              "[5 rows x 7 columns]"
            ]
          },
          "metadata": {
            "tags": []
          },
          "execution_count": 8
        }
      ]
    },
    {
      "cell_type": "code",
      "metadata": {
        "id": "MJd55QGeQQvd",
        "colab_type": "code",
        "colab": {
          "base_uri": "https://localhost:8080/",
          "height": 40
        },
        "outputId": "41d3ea75-f551-4981-b181-4f52685b0c5f"
      },
      "source": [
        "# test effects column\n",
        "strains_df['effects'][7]"
      ],
      "execution_count": 9,
      "outputs": [
        {
          "output_type": "execute_result",
          "data": {
            "application/vnd.google.colaboratory.intrinsic+json": {
              "type": "string"
            },
            "text/plain": [
              "'Uplifted,Focused,Happy,Talkative,Relaxed'"
            ]
          },
          "metadata": {
            "tags": []
          },
          "execution_count": 9
        }
      ]
    },
    {
      "cell_type": "markdown",
      "metadata": {
        "id": "_6l22nz3Ne3j",
        "colab_type": "text"
      },
      "source": [
        "# Tokenize the Combined Column"
      ]
    },
    {
      "cell_type": "code",
      "metadata": {
        "id": "ex3UQKHaNRTR",
        "colab_type": "code",
        "colab": {
          "base_uri": "https://localhost:8080/",
          "height": 121
        },
        "outputId": "ec492fa1-5e5d-46e4-d223-b2128adacd56"
      },
      "source": [
        "# import spacy\n",
        "# from spacy.tokenizer import Tokenizer\n",
        "# from sklearn.neighbors import NearestNeighbors\n",
        "# from sklearn.feature_extraction.text import TfidfVectorizer\n",
        "\n",
        "# load neural network\n",
        "nlp = spacy.load(\"en_core_web_lg\")\n",
        "\n",
        "# tokenizer\n",
        "tokenizer = Tokenizer(nlp.vocab)\n",
        "\n",
        "# Make the tokens form description\n",
        "combined_tokens = []\n",
        "for txt in tokenizer.pipe(strains_df['combined'], batch_size=500):\n",
        "    txt_tokens = [token.text for token in txt]\n",
        "    combined_tokens.append(txt_tokens)\n",
        "strains_df['combined_tokens'] = combined_tokens\n",
        "print(strains_df['combined_tokens'].head())"
      ],
      "execution_count": 10,
      "outputs": [
        {
          "output_type": "stream",
          "text": [
            "0    [Creative,Energetic,Tingly,Euphoric,RelaxedEar...\n",
            "1    [Relaxed,Aroused,Creative,Happy,EnergeticFlowe...\n",
            "2    [Uplifted,Happy,Relaxed,Energetic,CreativeSpic...\n",
            "3    [Tingly,Creative,Hungry,Relaxed,UpliftedAprico...\n",
            "4    [Happy,Relaxed,Euphoric,Uplifted,TalkativeCitr...\n",
            "Name: combined_tokens, dtype: object\n"
          ],
          "name": "stdout"
        }
      ]
    },
    {
      "cell_type": "code",
      "metadata": {
        "id": "9gSlKzB1PlfT",
        "colab_type": "code",
        "colab": {}
      },
      "source": [
        "def tokenize(document):\n",
        "    \n",
        "    doc = nlp(document)\n",
        "    \n",
        "    return [token.lemma_.strip() for token in doc if (token.is_stop != True) \\\n",
        "            and (token.is_punct != True)]"
      ],
      "execution_count": 11,
      "outputs": []
    },
    {
      "cell_type": "code",
      "metadata": {
        "id": "z-aPIhz2Pr2w",
        "colab_type": "code",
        "colab": {
          "base_uri": "https://localhost:8080/",
          "height": 290
        },
        "outputId": "ea9048be-e08d-4d0f-8a22-4536bb3d0990"
      },
      "source": [
        "# Instantiate vectorizer object\n",
        "tfidf = TfidfVectorizer(stop_words = 'english',\n",
        "                       ngram_range = (1,2),\n",
        "                       max_features = 2000)\n",
        "\n",
        "# Create a vocabulary and tf-idf score per document\n",
        "dtm = tfidf.fit_transform(strains_df['combined'])\n",
        "                         \n",
        "\n",
        "# Get feature names to use as dataframe column headers\n",
        "dtm = pd.DataFrame(dtm.todense(), columns=tfidf.get_feature_names())\n",
        "nn = NearestNeighbors(n_neighbors=4, algorithm='kd_tree')\n",
        "nn.fit(dtm)\n",
        "\n",
        "\n",
        "# View Feature Matrix as DataFrame\n",
        "print(dtm.shape)\n",
        "dtm.head()"
      ],
      "execution_count": 12,
      "outputs": [
        {
          "output_type": "stream",
          "text": [
            "(2163, 2000)\n"
          ],
          "name": "stdout"
        },
        {
          "output_type": "execute_result",
          "data": {
            "text/html": [
              "<div>\n",
              "<style scoped>\n",
              "    .dataframe tbody tr th:only-of-type {\n",
              "        vertical-align: middle;\n",
              "    }\n",
              "\n",
              "    .dataframe tbody tr th {\n",
              "        vertical-align: top;\n",
              "    }\n",
              "\n",
              "    .dataframe thead th {\n",
              "        text-align: right;\n",
              "    }\n",
              "</style>\n",
              "<table border=\"1\" class=\"dataframe\">\n",
              "  <thead>\n",
              "    <tr style=\"text-align: right;\">\n",
              "      <th></th>\n",
              "      <th>10</th>\n",
              "      <th>10 weeks</th>\n",
              "      <th>11</th>\n",
              "      <th>11 weeks</th>\n",
              "      <th>12</th>\n",
              "      <th>13</th>\n",
              "      <th>14</th>\n",
              "      <th>15</th>\n",
              "      <th>18</th>\n",
              "      <th>1980s</th>\n",
              "      <th>1st</th>\n",
              "      <th>1st hawaiian</th>\n",
              "      <th>1st place</th>\n",
              "      <th>20</th>\n",
              "      <th>20 indica</th>\n",
              "      <th>20 thc</th>\n",
              "      <th>2012</th>\n",
              "      <th>2014</th>\n",
              "      <th>2014 cannabis</th>\n",
              "      <th>2015</th>\n",
              "      <th>2016</th>\n",
              "      <th>22</th>\n",
              "      <th>23</th>\n",
              "      <th>24</th>\n",
              "      <th>25</th>\n",
              "      <th>2nd</th>\n",
              "      <th>2nd place</th>\n",
              "      <th>30</th>\n",
              "      <th>30 indica</th>\n",
              "      <th>3rd</th>\n",
              "      <th>3rd place</th>\n",
              "      <th>40</th>\n",
              "      <th>40 indica</th>\n",
              "      <th>40 sativa</th>\n",
              "      <th>45</th>\n",
              "      <th>47</th>\n",
              "      <th>50</th>\n",
              "      <th>50 50</th>\n",
              "      <th>50 hybrid</th>\n",
              "      <th>55</th>\n",
              "      <th>...</th>\n",
              "      <th>walker</th>\n",
              "      <th>want</th>\n",
              "      <th>warm</th>\n",
              "      <th>washington</th>\n",
              "      <th>washington state</th>\n",
              "      <th>way</th>\n",
              "      <th>way cross</th>\n",
              "      <th>week</th>\n",
              "      <th>week flowering</th>\n",
              "      <th>weeks</th>\n",
              "      <th>weight</th>\n",
              "      <th>weighted</th>\n",
              "      <th>west</th>\n",
              "      <th>west coast</th>\n",
              "      <th>whimsical</th>\n",
              "      <th>white</th>\n",
              "      <th>white alien</th>\n",
              "      <th>white og</th>\n",
              "      <th>white widow</th>\n",
              "      <th>wide</th>\n",
              "      <th>widow</th>\n",
              "      <th>winner</th>\n",
              "      <th>winning</th>\n",
              "      <th>won</th>\n",
              "      <th>won 1st</th>\n",
              "      <th>wonder</th>\n",
              "      <th>woody</th>\n",
              "      <th>woody spicy</th>\n",
              "      <th>work</th>\n",
              "      <th>works</th>\n",
              "      <th>world</th>\n",
              "      <th>worth</th>\n",
              "      <th>wowie</th>\n",
              "      <th>wrapped</th>\n",
              "      <th>wreck</th>\n",
              "      <th>years</th>\n",
              "      <th>yield</th>\n",
              "      <th>yielding</th>\n",
              "      <th>yields</th>\n",
              "      <th>zesty</th>\n",
              "    </tr>\n",
              "  </thead>\n",
              "  <tbody>\n",
              "    <tr>\n",
              "      <th>0</th>\n",
              "      <td>0.0</td>\n",
              "      <td>0.0</td>\n",
              "      <td>0.0</td>\n",
              "      <td>0.0</td>\n",
              "      <td>0.0</td>\n",
              "      <td>0.00000</td>\n",
              "      <td>0.0</td>\n",
              "      <td>0.0</td>\n",
              "      <td>0.000000</td>\n",
              "      <td>0.0</td>\n",
              "      <td>0.000000</td>\n",
              "      <td>0.000000</td>\n",
              "      <td>0.0</td>\n",
              "      <td>0.0</td>\n",
              "      <td>0.0</td>\n",
              "      <td>0.0</td>\n",
              "      <td>0.0</td>\n",
              "      <td>0.0</td>\n",
              "      <td>0.0</td>\n",
              "      <td>0.0</td>\n",
              "      <td>0.0</td>\n",
              "      <td>0.0</td>\n",
              "      <td>0.0</td>\n",
              "      <td>0.000000</td>\n",
              "      <td>0.0</td>\n",
              "      <td>0.0</td>\n",
              "      <td>0.0</td>\n",
              "      <td>0.0</td>\n",
              "      <td>0.0</td>\n",
              "      <td>0.0</td>\n",
              "      <td>0.0</td>\n",
              "      <td>0.0</td>\n",
              "      <td>0.0</td>\n",
              "      <td>0.0</td>\n",
              "      <td>0.0</td>\n",
              "      <td>0.0</td>\n",
              "      <td>0.286626</td>\n",
              "      <td>0.15769</td>\n",
              "      <td>0.162149</td>\n",
              "      <td>0.0</td>\n",
              "      <td>...</td>\n",
              "      <td>0.0</td>\n",
              "      <td>0.0</td>\n",
              "      <td>0.0</td>\n",
              "      <td>0.0</td>\n",
              "      <td>0.0</td>\n",
              "      <td>0.0</td>\n",
              "      <td>0.0</td>\n",
              "      <td>0.0</td>\n",
              "      <td>0.0</td>\n",
              "      <td>0.0</td>\n",
              "      <td>0.0</td>\n",
              "      <td>0.0</td>\n",
              "      <td>0.0</td>\n",
              "      <td>0.0</td>\n",
              "      <td>0.0</td>\n",
              "      <td>0.000000</td>\n",
              "      <td>0.0</td>\n",
              "      <td>0.0</td>\n",
              "      <td>0.000000</td>\n",
              "      <td>0.0</td>\n",
              "      <td>0.000000</td>\n",
              "      <td>0.0</td>\n",
              "      <td>0.0</td>\n",
              "      <td>0.0</td>\n",
              "      <td>0.0</td>\n",
              "      <td>0.0</td>\n",
              "      <td>0.00000</td>\n",
              "      <td>0.0</td>\n",
              "      <td>0.0</td>\n",
              "      <td>0.0</td>\n",
              "      <td>0.0</td>\n",
              "      <td>0.0</td>\n",
              "      <td>0.000000</td>\n",
              "      <td>0.0</td>\n",
              "      <td>0.0</td>\n",
              "      <td>0.0</td>\n",
              "      <td>0.0</td>\n",
              "      <td>0.0</td>\n",
              "      <td>0.0</td>\n",
              "      <td>0.0</td>\n",
              "    </tr>\n",
              "    <tr>\n",
              "      <th>1</th>\n",
              "      <td>0.0</td>\n",
              "      <td>0.0</td>\n",
              "      <td>0.0</td>\n",
              "      <td>0.0</td>\n",
              "      <td>0.0</td>\n",
              "      <td>0.00000</td>\n",
              "      <td>0.0</td>\n",
              "      <td>0.0</td>\n",
              "      <td>0.000000</td>\n",
              "      <td>0.0</td>\n",
              "      <td>0.101565</td>\n",
              "      <td>0.132918</td>\n",
              "      <td>0.0</td>\n",
              "      <td>0.0</td>\n",
              "      <td>0.0</td>\n",
              "      <td>0.0</td>\n",
              "      <td>0.0</td>\n",
              "      <td>0.0</td>\n",
              "      <td>0.0</td>\n",
              "      <td>0.0</td>\n",
              "      <td>0.0</td>\n",
              "      <td>0.0</td>\n",
              "      <td>0.0</td>\n",
              "      <td>0.000000</td>\n",
              "      <td>0.0</td>\n",
              "      <td>0.0</td>\n",
              "      <td>0.0</td>\n",
              "      <td>0.0</td>\n",
              "      <td>0.0</td>\n",
              "      <td>0.0</td>\n",
              "      <td>0.0</td>\n",
              "      <td>0.0</td>\n",
              "      <td>0.0</td>\n",
              "      <td>0.0</td>\n",
              "      <td>0.0</td>\n",
              "      <td>0.0</td>\n",
              "      <td>0.000000</td>\n",
              "      <td>0.00000</td>\n",
              "      <td>0.000000</td>\n",
              "      <td>0.0</td>\n",
              "      <td>...</td>\n",
              "      <td>0.0</td>\n",
              "      <td>0.0</td>\n",
              "      <td>0.0</td>\n",
              "      <td>0.0</td>\n",
              "      <td>0.0</td>\n",
              "      <td>0.0</td>\n",
              "      <td>0.0</td>\n",
              "      <td>0.0</td>\n",
              "      <td>0.0</td>\n",
              "      <td>0.0</td>\n",
              "      <td>0.0</td>\n",
              "      <td>0.0</td>\n",
              "      <td>0.0</td>\n",
              "      <td>0.0</td>\n",
              "      <td>0.0</td>\n",
              "      <td>0.291018</td>\n",
              "      <td>0.0</td>\n",
              "      <td>0.0</td>\n",
              "      <td>0.371532</td>\n",
              "      <td>0.0</td>\n",
              "      <td>0.369437</td>\n",
              "      <td>0.0</td>\n",
              "      <td>0.0</td>\n",
              "      <td>0.0</td>\n",
              "      <td>0.0</td>\n",
              "      <td>0.0</td>\n",
              "      <td>0.00000</td>\n",
              "      <td>0.0</td>\n",
              "      <td>0.0</td>\n",
              "      <td>0.0</td>\n",
              "      <td>0.0</td>\n",
              "      <td>0.0</td>\n",
              "      <td>0.138621</td>\n",
              "      <td>0.0</td>\n",
              "      <td>0.0</td>\n",
              "      <td>0.0</td>\n",
              "      <td>0.0</td>\n",
              "      <td>0.0</td>\n",
              "      <td>0.0</td>\n",
              "      <td>0.0</td>\n",
              "    </tr>\n",
              "    <tr>\n",
              "      <th>2</th>\n",
              "      <td>0.0</td>\n",
              "      <td>0.0</td>\n",
              "      <td>0.0</td>\n",
              "      <td>0.0</td>\n",
              "      <td>0.0</td>\n",
              "      <td>0.00000</td>\n",
              "      <td>0.0</td>\n",
              "      <td>0.0</td>\n",
              "      <td>0.000000</td>\n",
              "      <td>0.0</td>\n",
              "      <td>0.000000</td>\n",
              "      <td>0.000000</td>\n",
              "      <td>0.0</td>\n",
              "      <td>0.0</td>\n",
              "      <td>0.0</td>\n",
              "      <td>0.0</td>\n",
              "      <td>0.0</td>\n",
              "      <td>0.0</td>\n",
              "      <td>0.0</td>\n",
              "      <td>0.0</td>\n",
              "      <td>0.0</td>\n",
              "      <td>0.0</td>\n",
              "      <td>0.0</td>\n",
              "      <td>0.000000</td>\n",
              "      <td>0.0</td>\n",
              "      <td>0.0</td>\n",
              "      <td>0.0</td>\n",
              "      <td>0.0</td>\n",
              "      <td>0.0</td>\n",
              "      <td>0.0</td>\n",
              "      <td>0.0</td>\n",
              "      <td>0.0</td>\n",
              "      <td>0.0</td>\n",
              "      <td>0.0</td>\n",
              "      <td>0.0</td>\n",
              "      <td>0.0</td>\n",
              "      <td>0.000000</td>\n",
              "      <td>0.00000</td>\n",
              "      <td>0.000000</td>\n",
              "      <td>0.0</td>\n",
              "      <td>...</td>\n",
              "      <td>0.0</td>\n",
              "      <td>0.0</td>\n",
              "      <td>0.0</td>\n",
              "      <td>0.0</td>\n",
              "      <td>0.0</td>\n",
              "      <td>0.0</td>\n",
              "      <td>0.0</td>\n",
              "      <td>0.0</td>\n",
              "      <td>0.0</td>\n",
              "      <td>0.0</td>\n",
              "      <td>0.0</td>\n",
              "      <td>0.0</td>\n",
              "      <td>0.0</td>\n",
              "      <td>0.0</td>\n",
              "      <td>0.0</td>\n",
              "      <td>0.000000</td>\n",
              "      <td>0.0</td>\n",
              "      <td>0.0</td>\n",
              "      <td>0.000000</td>\n",
              "      <td>0.0</td>\n",
              "      <td>0.000000</td>\n",
              "      <td>0.0</td>\n",
              "      <td>0.0</td>\n",
              "      <td>0.0</td>\n",
              "      <td>0.0</td>\n",
              "      <td>0.0</td>\n",
              "      <td>0.00000</td>\n",
              "      <td>0.0</td>\n",
              "      <td>0.0</td>\n",
              "      <td>0.0</td>\n",
              "      <td>0.0</td>\n",
              "      <td>0.0</td>\n",
              "      <td>0.000000</td>\n",
              "      <td>0.0</td>\n",
              "      <td>0.0</td>\n",
              "      <td>0.0</td>\n",
              "      <td>0.0</td>\n",
              "      <td>0.0</td>\n",
              "      <td>0.0</td>\n",
              "      <td>0.0</td>\n",
              "    </tr>\n",
              "    <tr>\n",
              "      <th>3</th>\n",
              "      <td>0.0</td>\n",
              "      <td>0.0</td>\n",
              "      <td>0.0</td>\n",
              "      <td>0.0</td>\n",
              "      <td>0.0</td>\n",
              "      <td>0.35166</td>\n",
              "      <td>0.0</td>\n",
              "      <td>0.0</td>\n",
              "      <td>0.000000</td>\n",
              "      <td>0.0</td>\n",
              "      <td>0.000000</td>\n",
              "      <td>0.000000</td>\n",
              "      <td>0.0</td>\n",
              "      <td>0.0</td>\n",
              "      <td>0.0</td>\n",
              "      <td>0.0</td>\n",
              "      <td>0.0</td>\n",
              "      <td>0.0</td>\n",
              "      <td>0.0</td>\n",
              "      <td>0.0</td>\n",
              "      <td>0.0</td>\n",
              "      <td>0.0</td>\n",
              "      <td>0.0</td>\n",
              "      <td>0.000000</td>\n",
              "      <td>0.0</td>\n",
              "      <td>0.0</td>\n",
              "      <td>0.0</td>\n",
              "      <td>0.0</td>\n",
              "      <td>0.0</td>\n",
              "      <td>0.0</td>\n",
              "      <td>0.0</td>\n",
              "      <td>0.0</td>\n",
              "      <td>0.0</td>\n",
              "      <td>0.0</td>\n",
              "      <td>0.0</td>\n",
              "      <td>0.0</td>\n",
              "      <td>0.000000</td>\n",
              "      <td>0.00000</td>\n",
              "      <td>0.000000</td>\n",
              "      <td>0.0</td>\n",
              "      <td>...</td>\n",
              "      <td>0.0</td>\n",
              "      <td>0.0</td>\n",
              "      <td>0.0</td>\n",
              "      <td>0.0</td>\n",
              "      <td>0.0</td>\n",
              "      <td>0.0</td>\n",
              "      <td>0.0</td>\n",
              "      <td>0.0</td>\n",
              "      <td>0.0</td>\n",
              "      <td>0.0</td>\n",
              "      <td>0.0</td>\n",
              "      <td>0.0</td>\n",
              "      <td>0.0</td>\n",
              "      <td>0.0</td>\n",
              "      <td>0.0</td>\n",
              "      <td>0.000000</td>\n",
              "      <td>0.0</td>\n",
              "      <td>0.0</td>\n",
              "      <td>0.000000</td>\n",
              "      <td>0.0</td>\n",
              "      <td>0.000000</td>\n",
              "      <td>0.0</td>\n",
              "      <td>0.0</td>\n",
              "      <td>0.0</td>\n",
              "      <td>0.0</td>\n",
              "      <td>0.0</td>\n",
              "      <td>0.12036</td>\n",
              "      <td>0.0</td>\n",
              "      <td>0.0</td>\n",
              "      <td>0.0</td>\n",
              "      <td>0.0</td>\n",
              "      <td>0.0</td>\n",
              "      <td>0.000000</td>\n",
              "      <td>0.0</td>\n",
              "      <td>0.0</td>\n",
              "      <td>0.0</td>\n",
              "      <td>0.0</td>\n",
              "      <td>0.0</td>\n",
              "      <td>0.0</td>\n",
              "      <td>0.0</td>\n",
              "    </tr>\n",
              "    <tr>\n",
              "      <th>4</th>\n",
              "      <td>0.0</td>\n",
              "      <td>0.0</td>\n",
              "      <td>0.0</td>\n",
              "      <td>0.0</td>\n",
              "      <td>0.0</td>\n",
              "      <td>0.00000</td>\n",
              "      <td>0.0</td>\n",
              "      <td>0.0</td>\n",
              "      <td>0.133172</td>\n",
              "      <td>0.0</td>\n",
              "      <td>0.000000</td>\n",
              "      <td>0.000000</td>\n",
              "      <td>0.0</td>\n",
              "      <td>0.0</td>\n",
              "      <td>0.0</td>\n",
              "      <td>0.0</td>\n",
              "      <td>0.0</td>\n",
              "      <td>0.0</td>\n",
              "      <td>0.0</td>\n",
              "      <td>0.0</td>\n",
              "      <td>0.0</td>\n",
              "      <td>0.0</td>\n",
              "      <td>0.0</td>\n",
              "      <td>0.131099</td>\n",
              "      <td>0.0</td>\n",
              "      <td>0.0</td>\n",
              "      <td>0.0</td>\n",
              "      <td>0.0</td>\n",
              "      <td>0.0</td>\n",
              "      <td>0.0</td>\n",
              "      <td>0.0</td>\n",
              "      <td>0.0</td>\n",
              "      <td>0.0</td>\n",
              "      <td>0.0</td>\n",
              "      <td>0.0</td>\n",
              "      <td>0.0</td>\n",
              "      <td>0.000000</td>\n",
              "      <td>0.00000</td>\n",
              "      <td>0.000000</td>\n",
              "      <td>0.0</td>\n",
              "      <td>...</td>\n",
              "      <td>0.0</td>\n",
              "      <td>0.0</td>\n",
              "      <td>0.0</td>\n",
              "      <td>0.0</td>\n",
              "      <td>0.0</td>\n",
              "      <td>0.0</td>\n",
              "      <td>0.0</td>\n",
              "      <td>0.0</td>\n",
              "      <td>0.0</td>\n",
              "      <td>0.0</td>\n",
              "      <td>0.0</td>\n",
              "      <td>0.0</td>\n",
              "      <td>0.0</td>\n",
              "      <td>0.0</td>\n",
              "      <td>0.0</td>\n",
              "      <td>0.000000</td>\n",
              "      <td>0.0</td>\n",
              "      <td>0.0</td>\n",
              "      <td>0.000000</td>\n",
              "      <td>0.0</td>\n",
              "      <td>0.000000</td>\n",
              "      <td>0.0</td>\n",
              "      <td>0.0</td>\n",
              "      <td>0.0</td>\n",
              "      <td>0.0</td>\n",
              "      <td>0.0</td>\n",
              "      <td>0.00000</td>\n",
              "      <td>0.0</td>\n",
              "      <td>0.0</td>\n",
              "      <td>0.0</td>\n",
              "      <td>0.0</td>\n",
              "      <td>0.0</td>\n",
              "      <td>0.000000</td>\n",
              "      <td>0.0</td>\n",
              "      <td>0.0</td>\n",
              "      <td>0.0</td>\n",
              "      <td>0.0</td>\n",
              "      <td>0.0</td>\n",
              "      <td>0.0</td>\n",
              "      <td>0.0</td>\n",
              "    </tr>\n",
              "  </tbody>\n",
              "</table>\n",
              "<p>5 rows × 2000 columns</p>\n",
              "</div>"
            ],
            "text/plain": [
              "    10  10 weeks   11  11 weeks   12  ...  years  yield  yielding  yields  zesty\n",
              "0  0.0       0.0  0.0       0.0  0.0  ...    0.0    0.0       0.0     0.0    0.0\n",
              "1  0.0       0.0  0.0       0.0  0.0  ...    0.0    0.0       0.0     0.0    0.0\n",
              "2  0.0       0.0  0.0       0.0  0.0  ...    0.0    0.0       0.0     0.0    0.0\n",
              "3  0.0       0.0  0.0       0.0  0.0  ...    0.0    0.0       0.0     0.0    0.0\n",
              "4  0.0       0.0  0.0       0.0  0.0  ...    0.0    0.0       0.0     0.0    0.0\n",
              "\n",
              "[5 rows x 2000 columns]"
            ]
          },
          "metadata": {
            "tags": []
          },
          "execution_count": 12
        }
      ]
    },
    {
      "cell_type": "code",
      "metadata": {
        "id": "Td_WVdd4Pzb-",
        "colab_type": "code",
        "colab": {}
      },
      "source": [
        "# the user will give a sentance of desired effects\n",
        "user_input_effects = ['I would like to feel happy']"
      ],
      "execution_count": 13,
      "outputs": []
    },
    {
      "cell_type": "code",
      "metadata": {
        "id": "t8mrefoDP4pV",
        "colab_type": "code",
        "colab": {
          "base_uri": "https://localhost:8080/",
          "height": 52
        },
        "outputId": "3ee03df0-3259-4f9e-b6d9-9f7a2a224eea"
      },
      "source": [
        "# Query the ideal descprition\n",
        "output_results = tfidf.transform(user_input_effects)\n",
        "output_results"
      ],
      "execution_count": 14,
      "outputs": [
        {
          "output_type": "execute_result",
          "data": {
            "text/plain": [
              "<1x2000 sparse matrix of type '<class 'numpy.float64'>'\n",
              "\twith 3 stored elements in Compressed Sparse Row format>"
            ]
          },
          "metadata": {
            "tags": []
          },
          "execution_count": 14
        }
      ]
    },
    {
      "cell_type": "code",
      "metadata": {
        "id": "hMHHgamQP4v9",
        "colab_type": "code",
        "colab": {
          "base_uri": "https://localhost:8080/",
          "height": 52
        },
        "outputId": "4066a4ec-f898-4a13-d7f0-9883e053cf1d"
      },
      "source": [
        "# get the model predictions array\n",
        "nn.kneighbors(output_results.todense())"
      ],
      "execution_count": 15,
      "outputs": [
        {
          "output_type": "execute_result",
          "data": {
            "text/plain": [
              "(array([[1.19841614, 1.2133686 , 1.22489587, 1.24692505]]),\n",
              " array([[ 440, 2154, 1630, 1177]]))"
            ]
          },
          "metadata": {
            "tags": []
          },
          "execution_count": 15
        }
      ]
    },
    {
      "cell_type": "code",
      "metadata": {
        "id": "z5JulwkRP43j",
        "colab_type": "code",
        "colab": {
          "base_uri": "https://localhost:8080/",
          "height": 486
        },
        "outputId": "fd309adf-a992-40ae-b082-89849e9308f3"
      },
      "source": [
        "# top four predictions\n",
        "\n",
        "'''\n",
        "would like to turn this all into a for loop\n",
        "\n",
        "def prediction_results(first,second,thrid,fourth):\n",
        "  take the predictions via the parameters and prints\n",
        "  out the strain and the discription\n",
        "'''\n",
        "\n",
        "wrapper = textwrap.TextWrapper(width = 75)\n",
        "\n",
        "# first strain\n",
        "first_name = strains_df['strain'][440]\n",
        "first_review = strains_df['description'][440]\n",
        "first_review = wrapper.fill(text=first_review)\n",
        "print(colored('Strain Name: ','green'),first_name + '\\n', \n",
        "      colored(first_review, 'grey'))\n",
        "print()\n",
        "\n",
        "# second strain\n",
        "second_name = strains_df['strain'][2154]\n",
        "second_review = strains_df['description'][2154]\n",
        "second_review = wrapper.fill(text=first_review)\n",
        "print(colored('Strain Name: ','green'),second_name + '\\n',\n",
        "      colored(second_review, 'grey'))\n",
        "print()\n",
        "\n",
        "# third strain\n",
        "third_name = strains_df['strain'][1630]\n",
        "third_review = strains_df['description'][1630]\n",
        "third_review = wrapper.fill(text=first_review)\n",
        "print(colored('Strain Name: ','green'),third_name + '\\n',\n",
        "      colored(third_review, 'grey'))\n",
        "print()\n",
        "\n",
        "# fourth strain\n",
        "fourth_name = strains_df['strain'][1177]\n",
        "fourth_review = strains_df['description'][1177]\n",
        "fourth_review = wrapper.fill(text=first_review)\n",
        "print(colored('Strain Name: ','green'),fourth_name + '\\n',\n",
        "      colored(fourth_review, 'grey'))"
      ],
      "execution_count": 36,
      "outputs": [
        {
          "output_type": "stream",
          "text": [
            "\u001b[32mStrain Name: \u001b[0m Cheese-Quake\n",
            " \u001b[30mCheese Quake by TGA Subcool Seeds is a 60/40 indica-dominant cross\n",
            "between Cheese and Querkle.  A hint of grape is detectable, but its aroma\n",
            "is led by the funky sour aroma commonly associated with Cheese hybrids.\n",
            "Expect to feel tingy invigoration followed by uplifting body sensations to\n",
            "help you feel relaxed and carefree.\u001b[0m\n",
            "\n",
            "\u001b[32mStrain Name: \u001b[0m Yummy\n",
            " \u001b[30mCheese Quake by TGA Subcool Seeds is a 60/40 indica-dominant cross\n",
            "between Cheese and Querkle.  A hint of grape is detectable, but its aroma\n",
            "is led by the funky sour aroma commonly associated with Cheese hybrids.\n",
            "Expect to feel tingy invigoration followed by uplifting body sensations to\n",
            "help you feel relaxed and carefree.\u001b[0m\n",
            "\n",
            "\u001b[32mStrain Name: \u001b[0m Redwood-Kush\n",
            " \u001b[30mCheese Quake by TGA Subcool Seeds is a 60/40 indica-dominant cross\n",
            "between Cheese and Querkle.  A hint of grape is detectable, but its aroma\n",
            "is led by the funky sour aroma commonly associated with Cheese hybrids.\n",
            "Expect to feel tingy invigoration followed by uplifting body sensations to\n",
            "help you feel relaxed and carefree.\u001b[0m\n",
            "\n",
            "\u001b[32mStrain Name: \u001b[0m Lemon-Og\n",
            " \u001b[30mCheese Quake by TGA Subcool Seeds is a 60/40 indica-dominant cross\n",
            "between Cheese and Querkle.  A hint of grape is detectable, but its aroma\n",
            "is led by the funky sour aroma commonly associated with Cheese hybrids.\n",
            "Expect to feel tingy invigoration followed by uplifting body sensations to\n",
            "help you feel relaxed and carefree.\u001b[0m\n"
          ],
          "name": "stdout"
        }
      ]
    },
    {
      "cell_type": "markdown",
      "metadata": {
        "id": "oWO7-cKCQJFf",
        "colab_type": "text"
      },
      "source": [
        "# Pickle Time"
      ]
    },
    {
      "cell_type": "code",
      "metadata": {
        "id": "1GBcC9AmQBid",
        "colab_type": "code",
        "colab": {}
      },
      "source": [
        "# import pickle\n",
        "# Dump the trained classifier (nn)  with Pickle\n",
        "pickle_filename = 'model.pkl2'\n",
        "pickled_model = open(pickle_filename, 'wb')  # Open the file to save as pkl file\n",
        "pickle.dump(nn, pickled_model)\n",
        "pickled_model.close() # Close the pickle instances"
      ],
      "execution_count": 25,
      "outputs": []
    },
    {
      "cell_type": "code",
      "metadata": {
        "id": "aIzeoxUJQN24",
        "colab_type": "code",
        "colab": {
          "base_uri": "https://localhost:8080/",
          "height": 69
        },
        "outputId": "ab401e81-fe61-4969-c334-8157b759cc37"
      },
      "source": [
        "# Loading the saved model\n",
        "model_pkl2 = open(pickle_filename, 'rb')\n",
        "NN_model2 = pickle.load(model_pkl2)\n",
        "print (\"Loaded model :: \", NN_model2)  # print to verify"
      ],
      "execution_count": 26,
      "outputs": [
        {
          "output_type": "stream",
          "text": [
            "Loaded model ::  NearestNeighbors(algorithm='kd_tree', leaf_size=30, metric='minkowski',\n",
            "                 metric_params=None, n_jobs=None, n_neighbors=4, p=2,\n",
            "                 radius=1.0)\n"
          ],
          "name": "stdout"
        }
      ]
    },
    {
      "cell_type": "code",
      "metadata": {
        "id": "-OTOP6avQOAr",
        "colab_type": "code",
        "colab": {}
      },
      "source": [
        "# Dump the trained classifier (tfidf)  with Pickle\n",
        "pickle_filename_1 = 'tfidf.pkl2'\n",
        "pickled_model_1 = open(pickle_filename_1, 'wb')  # Open the file to save as pkl file\n",
        "pickle.dump(tfidf, pickled_model_1)\n",
        "pickled_model_1.close() # Close the pickle instances"
      ],
      "execution_count": 27,
      "outputs": []
    },
    {
      "cell_type": "code",
      "metadata": {
        "id": "0jzPGRjXQRLC",
        "colab_type": "code",
        "colab": {
          "base_uri": "https://localhost:8080/",
          "height": 139
        },
        "outputId": "01ebf1c7-10ab-4ca1-fec4-2d3ad327a2c6"
      },
      "source": [
        "# Loading the saved model\n",
        "model_pkl_1 = open(pickle_filename_1, 'rb')\n",
        "tfidf_model2 = pickle.load(model_pkl_1)\n",
        "print (\"Loaded model :: \", tfidf_model2)  # print to verify"
      ],
      "execution_count": 28,
      "outputs": [
        {
          "output_type": "stream",
          "text": [
            "Loaded model ::  TfidfVectorizer(analyzer='word', binary=False, decode_error='strict',\n",
            "                dtype=<class 'numpy.float64'>, encoding='utf-8',\n",
            "                input='content', lowercase=True, max_df=1.0, max_features=2000,\n",
            "                min_df=1, ngram_range=(1, 2), norm='l2', preprocessor=None,\n",
            "                smooth_idf=True, stop_words='english', strip_accents=None,\n",
            "                sublinear_tf=False, token_pattern='(?u)\\\\b\\\\w\\\\w+\\\\b',\n",
            "                tokenizer=None, use_idf=True, vocabulary=None)\n"
          ],
          "name": "stdout"
        }
      ]
    },
    {
      "cell_type": "code",
      "metadata": {
        "id": "v_7fnwzpQTSg",
        "colab_type": "code",
        "colab": {}
      },
      "source": [
        "user_input_effects2 = [\"happy,Sleepy,Apricot,Citrus,Grapefruit\"]"
      ],
      "execution_count": 29,
      "outputs": []
    },
    {
      "cell_type": "code",
      "metadata": {
        "id": "Gv5nFRFVQTdG",
        "colab_type": "code",
        "colab": {
          "base_uri": "https://localhost:8080/",
          "height": 52
        },
        "outputId": "cb1332d4-b45d-4e9a-d3ca-a9cc7cde3dee"
      },
      "source": [
        "output_results2 = tfidf_model2.transform(user_input_effects2)\n",
        "output_results2"
      ],
      "execution_count": 31,
      "outputs": [
        {
          "output_type": "execute_result",
          "data": {
            "text/plain": [
              "<1x2000 sparse matrix of type '<class 'numpy.float64'>'\n",
              "\twith 5 stored elements in Compressed Sparse Row format>"
            ]
          },
          "metadata": {
            "tags": []
          },
          "execution_count": 31
        }
      ]
    },
    {
      "cell_type": "code",
      "metadata": {
        "id": "gyJO2dtIQWor",
        "colab_type": "code",
        "colab": {
          "base_uri": "https://localhost:8080/",
          "height": 52
        },
        "outputId": "d0ee50d1-b622-4488-e20f-c33f0798648d"
      },
      "source": [
        "# get the model predictions array\n",
        "NN_model2.kneighbors(output_results2.todense())"
      ],
      "execution_count": 32,
      "outputs": [
        {
          "output_type": "execute_result",
          "data": {
            "text/plain": [
              "(array([[1.09504845, 1.14089606, 1.15844355, 1.18178543]]),\n",
              " array([[1911,  398,  863, 1497]]))"
            ]
          },
          "metadata": {
            "tags": []
          },
          "execution_count": 32
        }
      ]
    },
    {
      "cell_type": "code",
      "metadata": {
        "id": "p7vObQraQeqc",
        "colab_type": "code",
        "colab": {}
      },
      "source": [
        "# get predictions into JSON format for web team\n",
        "\n",
        "import json\n",
        "def recommend(user_input):\n",
        "    temp_df = NN_model2.kneighbors(tfidf_model2.transform([user_input]).todense())[1]\n",
        "    \n",
        "\n",
        "    #print(temp_df)\n",
        "    \n",
        "    for i in range(4):\n",
        "        info = strains_df.loc[temp_df[0][i]]['strain']\n",
        "        info_effects = strains_df.loc[temp_df[0][i]]['effects']\n",
        "        info_flavor = strains_df.loc[temp_df[0][i]]['flavor']\n",
        "        info_description = strains_df.loc[temp_df[0][i]]['description']\n",
        "        info_rating = strains_df.loc[temp_df[0][i]]['rating']\n",
        "        \n",
        "        print(json.dumps(info))\n",
        "        print(json.dumps(info_effects))\n",
        "        print(json.dumps(info_flavor))\n",
        "        print(json.dumps(info_description))\n",
        "        print(json.dumps(info_rating))\n",
        "        \n",
        "        #return json.dumps(info)  #for engineeers, the return does not work in jupyter lab.  Should work in vsCode.\n",
        "        #return json.dumps(info_effects)\n",
        "        #return json.dumps(info_flavor)\n",
        "        #return json.dump(info_description)\n",
        "        #return json.dumps(info_rating)"
      ],
      "execution_count": 33,
      "outputs": []
    },
    {
      "cell_type": "code",
      "metadata": {
        "id": "yidF9juaQe04",
        "colab_type": "code",
        "colab": {
          "base_uri": "https://localhost:8080/",
          "height": 384
        },
        "outputId": "4b1247a1-2bfa-482d-8aa9-10bb4cff8667"
      },
      "source": [
        "recommend('I want to feel happy')"
      ],
      "execution_count": 35,
      "outputs": [
        {
          "output_type": "stream",
          "text": [
            "\"Sfv-Og\"\n",
            "\"Happy,Relaxed,Uplifted,Euphoric,Focused\"\n",
            "\"Earthy,Pine,Pungent\"\n",
            "\"SFV OG by Cali Connection\\u00a0is a sativa-dominant hybrid that is great for patients who need strong pain relief but don\\u2019t want to be stuck on the couch. As the name indicates, this OG Kush relative\\u00a0originates from California\\u2019s San Fernando Valley. Although their names are barely distinguishable, SFV OG Kush is actually the Afghani-crossed\\u00a0child to SFV OG.\\u00a0The flowers will stay fairly small and may not look super impressive, but what it lacks in looks it makes up for in smell. The pine and lemon earthiness that SFV exudes can be a bit harsh and bitter if smoked, so this strain is one to save for the vaporizer if consuming directly. Its indica body effects take a little longer to feel than the initial head haziness, but once they do, everything will feel fine.\"\n",
            "4.4\n",
            "\"Cheese-Quake\"\n",
            "\"Euphoric,Uplifted,Relaxed,Tingly,Happy\"\n",
            "\"Ammonia,Citrus,Rose\"\n",
            "\"Cheese Quake by TGA Subcool Seeds is a 60/40 indica-dominant cross between\\u00a0Cheese and Querkle. \\u00a0A hint of grape is detectable, but its aroma is led by the funky sour aroma commonly associated with Cheese hybrids. Expect to feel tingy invigoration followed by uplifting body sensations to help you feel relaxed and carefree.\"\n",
            "4.3\n",
            "\"Yummy\"\n",
            "\"Uplifted,Relaxed,Happy,Energetic,Euphoric\"\n",
            "\"Sweet,Earthy,Pungent\"\n",
            "\"Yummy is an indica-dominant hybrid that hails from Northern California where it was bred by combining Granddaddy Kush and White Dawg genetics. Its potent effects settle heavily throughout the body, and while your mind may feel relaxed, it won\\u2019t necessarily feel asleep. However, this strain is better paired with calm, meditative activities than focused, cognitive tasks as Yummy tends to blanket thoughts in a foggy tranquility. This high-THC strain can provide relief to a variety of symptoms and conditions including pain, insomnia, nausea, depression, and appetite loss.\"\n",
            "4.2\n",
            "\"Rob-Ford-Kush\"\n",
            "\"Sleepy,Relaxed,Happy,Hungry,Tingly\"\n",
            "\"Sweet,Lemon,Spicy/Herbal\"\n",
            "\"A Toronto strain that gets its name from its sensationalized former mayor, Rob Ford Kush is a powerfully sleepy indica strain. Keep this one for a day when you want to get nothing done, because its heavy, sedating effects will keep you stagnant in full relaxation. Its plants bloom with overweight, round buds that exude pungent aromas of lemon and hashy kush.\"\n",
            "4.6\n"
          ],
          "name": "stdout"
        }
      ]
    },
    {
      "cell_type": "markdown",
      "metadata": {
        "id": "8hGY3NZXq2m0",
        "colab_type": "text"
      },
      "source": [
        "# Extra future features testing"
      ]
    },
    {
      "cell_type": "markdown",
      "metadata": {
        "id": "HV-kd4t5aYxF",
        "colab_type": "text"
      },
      "source": [
        "# Medical Predictions\n",
        "New dataset for a future feature, tokenize the `ailments` feature"
      ]
    },
    {
      "cell_type": "code",
      "metadata": {
        "id": "P1bKtcu8aXIX",
        "colab_type": "code",
        "colab": {}
      },
      "source": [
        "# upload the medical.csv\n",
        "\n",
        "URL = 'https://raw.githubusercontent.com/Build-Week-Med4/DS/master/machine_learning/medical.csv'\n",
        "medical = pd.read_csv(URL)\n",
        "medical.columns= medical.columns.str.lower()\n",
        "medical = medical.rename(columns={'alments' : 'ailments'})\n",
        "\n",
        "print(medical.shape)\n",
        "medical.head()"
      ],
      "execution_count": null,
      "outputs": []
    },
    {
      "cell_type": "code",
      "metadata": {
        "id": "f78KMlIybB66",
        "colab_type": "code",
        "colab": {}
      },
      "source": [
        "# check for NaNs \n",
        "medical.isnull().sum()"
      ],
      "execution_count": null,
      "outputs": []
    },
    {
      "cell_type": "code",
      "metadata": {
        "id": "Gdiy2ATmbIrn",
        "colab_type": "code",
        "colab": {}
      },
      "source": [
        "# drop unnecessary columns\n",
        "medical = medical.drop(columns=['rating', 'effects','flavor', 'description'])\n",
        "medical.head()"
      ],
      "execution_count": null,
      "outputs": []
    },
    {
      "cell_type": "markdown",
      "metadata": {
        "id": "Vd42DK4Jcq1D",
        "colab_type": "text"
      },
      "source": [
        "# Tokenize the Alemnts Column"
      ]
    },
    {
      "cell_type": "code",
      "metadata": {
        "id": "-EMFtaEmb-st",
        "colab_type": "code",
        "colab": {}
      },
      "source": [
        "!python -m spacy download en_core_web_lg"
      ],
      "execution_count": null,
      "outputs": []
    },
    {
      "cell_type": "code",
      "metadata": {
        "id": "yP-UBG6Hdqcv",
        "colab_type": "code",
        "colab": {}
      },
      "source": [
        "import spacy\n",
        "from spacy.tokenizer import Tokenizer\n",
        "from sklearn.neighbors import NearestNeighbors\n",
        "from sklearn.feature_extraction.text import TfidfVectorizer\n",
        "\n",
        "nlp = spacy.load(\"en_core_web_lg\")\n",
        "\n",
        "# The Tokenizer\n",
        "tokenizer = Tokenizer(nlp.vocab)\n",
        "\n",
        "# Make the tokens for description\n",
        "ailments_tokens = []\n",
        "for txt in tokenizer.pipe(medical['ailments'], batch_size=500):\n",
        "    txt_tokens = [token.text for token in txt]\n",
        "    ailments_tokens.append(txt_tokens)\n",
        "medical['ailments_tokens'] = ailments_tokens\n",
        "print(medical['ailments_tokens'].head())"
      ],
      "execution_count": null,
      "outputs": []
    },
    {
      "cell_type": "code",
      "metadata": {
        "id": "X6dLu8ENdq7M",
        "colab_type": "code",
        "colab": {}
      },
      "source": [
        "def tokenize(document):\n",
        "    \n",
        "    doc = nlp(document)\n",
        "    \n",
        "    return [token.lemma_.strip() for token in doc if (token.is_stop != True) \\\n",
        "            and (token.is_punct != True)]"
      ],
      "execution_count": null,
      "outputs": []
    },
    {
      "cell_type": "code",
      "metadata": {
        "id": "2RatMYCQdqow",
        "colab_type": "code",
        "colab": {}
      },
      "source": [
        "# Instantiate vectorizer object\n",
        "tfidf = TfidfVectorizer(stop_words = 'english',\n",
        "                       ngram_range = (1,2),\n",
        "                       max_features = 2000)\n",
        "\n",
        "# Create a vocabulary and tf-idf score per document\n",
        "dtm = tfidf.fit_transform(medical['ailments'])\n",
        "                         \n",
        "\n",
        "# Get feature names to use as dataframe column headers\n",
        "dtm = pd.DataFrame(dtm.todense(), columns=tfidf.get_feature_names())\n",
        "nn = NearestNeighbors(n_neighbors=4, algorithm='kd_tree')\n",
        "nn.fit(dtm)\n",
        "\n",
        "\n",
        "# View Feature Matrix as DataFrame\n",
        "print(dtm.shape)\n",
        "dtm.head()"
      ],
      "execution_count": null,
      "outputs": []
    },
    {
      "cell_type": "code",
      "metadata": {
        "id": "ZXJ6miyBeUUN",
        "colab_type": "code",
        "colab": {}
      },
      "source": [
        "user_input = ['''seizures,stress''']"
      ],
      "execution_count": null,
      "outputs": []
    },
    {
      "cell_type": "code",
      "metadata": {
        "id": "t7qVE6ukeUd7",
        "colab_type": "code",
        "colab": {}
      },
      "source": [
        "# Query the ideal descprition\n",
        "results = tfidf.transform(ideal)\n",
        "results"
      ],
      "execution_count": null,
      "outputs": []
    },
    {
      "cell_type": "code",
      "metadata": {
        "id": "LTPFUH3_eUmI",
        "colab_type": "code",
        "colab": {}
      },
      "source": [
        "nn.kneighbors(new.todense())"
      ],
      "execution_count": null,
      "outputs": []
    },
    {
      "cell_type": "code",
      "metadata": {
        "id": "cJBT7OyxedXP",
        "colab_type": "code",
        "colab": {}
      },
      "source": [
        "# most ideal description,strain and flavor\n",
        "medical['strain'][39]"
      ],
      "execution_count": null,
      "outputs": []
    },
    {
      "cell_type": "markdown",
      "metadata": {
        "id": "udiwCHYDfp1w",
        "colab_type": "text"
      },
      "source": [
        "### Pickel Medical Ailments"
      ]
    },
    {
      "cell_type": "code",
      "metadata": {
        "id": "5uAiLn20fo2g",
        "colab_type": "code",
        "colab": {}
      },
      "source": [
        "import pickle\n",
        "# Dump the trained classifier (nn)  with Pickle\n",
        "pickle_filename = 'ailments.pkl2'\n",
        "pickled_ailments = open(pickle_filename, 'wb')  # Open the file to save as pkl file\n",
        "pickle.dump(nn, pickled_ailments)\n",
        "pickled_ailments.close() # Close the pickle instances"
      ],
      "execution_count": null,
      "outputs": []
    },
    {
      "cell_type": "code",
      "metadata": {
        "id": "4On1D6WSf-Mo",
        "colab_type": "code",
        "colab": {}
      },
      "source": [
        "# Loading the saved model\n",
        "ailments_pkl2 = open(pickle_filename, 'rb')\n",
        "ailemnts_vector = pickle.load(ailments_pkl2)\n",
        "print (\"Loaded model :: \", ailemnts_vector)  # print to verify"
      ],
      "execution_count": null,
      "outputs": []
    }
  ]
}
